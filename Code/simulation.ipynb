{
 "cells": [
  {
   "cell_type": "code",
   "execution_count": 13,
   "metadata": {},
   "outputs": [],
   "source": [
    "import numpy as np\n",
    "import pandas as pd\n",
    "import matplotlib.pyplot as plt\n",
    "import seaborn as sns\n",
    "import scipy.stats as stats\n",
    "import matplotlib.patches as mpatches\n",
    "import matplotlib.lines as mlines\n",
    "import matplotlib.ticker as ticker\n",
    "from fitter import Fitter\n",
    "import random\n",
    "import dill"
   ]
  },
  {
   "cell_type": "code",
   "execution_count": 36,
   "metadata": {},
   "outputs": [
    {
     "name": "stdout",
     "output_type": "stream",
     "text": [
      "{'Andere': {'triang': (0.09931196824712626, 13755.79694749432, 5787.692990836085)}, 'Deutsch': {'tukeylambda': (1.1347467088248662, 43103.024086544116, 5676.443076508487)}, 'Französisch': {'arcsine': (12372.12750666975, 4543.861222067839)}, 'Italienisch': {'kappa3': (5.130945610107915, 4563.500673770326, 748.3996800088353)}}\n",
      "{'Andere': {'dgamma': {'a': 1.3697334100831213, 'loc': 12079.78698402648, 'scale': 366.96082166563485}}, 'Deutsch': {'dgamma': {'a': 1.4047932860060506, 'loc': 33371.56888282426, 'scale': 1050.752607945102}}, 'Französisch': {'dgamma': {'a': 1.2908066156943996, 'loc': 11061.22422818318, 'scale': 359.66185118917997}}, 'Italienisch': {'dgamma': {'a': 0.8415357611377217, 'loc': 4357.876519950023, 'scale': 270.63767252567504}}}\n",
      "{'Andere': {}, 'Deutsch': {}, 'Französisch': {}, 'Italienisch': {}}\n",
      "{'Andere': {'birth': array([4912.29618846, 5754.97103767, 4763.9870713 , ..., 6102.94946594,\n",
      "       5327.53033027, 4757.35565453]), 'death': array([4343.69638578, 4716.09427701, 4477.03904557, ..., 4571.69251919,\n",
      "       5173.2759444 , 4418.53846495])}, 'Deutsch': {'birth': array([4912.29618846, 5754.97103767, 4763.9870713 , ..., 6102.94946594,\n",
      "       5327.53033027, 4757.35565453]), 'death': array([4343.69638578, 4716.09427701, 4477.03904557, ..., 4571.69251919,\n",
      "       5173.2759444 , 4418.53846495])}, 'Französisch': {'birth': array([4912.29618846, 5754.97103767, 4763.9870713 , ..., 6102.94946594,\n",
      "       5327.53033027, 4757.35565453]), 'death': array([4343.69638578, 4716.09427701, 4477.03904557, ..., 4571.69251919,\n",
      "       5173.2759444 , 4418.53846495])}, 'Italienisch': {'birth': array([4912.29618846, 5754.97103767, 4763.9870713 , ..., 6102.94946594,\n",
      "       5327.53033027, 4757.35565453]), 'death': array([4343.69638578, 4716.09427701, 4477.03904557, ..., 4571.69251919,\n",
      "       5173.2759444 , 4418.53846495])}}\n"
     ]
    }
   ],
   "source": [
    "geburtenRate = dill.load(open('../Daten/zf_geburtenrate/districutions_nach_sprache.pick', 'rb'))\n",
    "todesRaten = dill.load(open('../Daten/zf_todesrate/districutions_nach_sprache.pick', 'rb'))\n",
    "\n",
    "print(geburtenRate)\n",
    "print(todesRaten)\n",
    "def generateDistribution(dicty,n=10000):\n",
    "    \n",
    "    key = list(dicty.keys())[0]\n",
    "    params = dicty[key]\n",
    "    obj = getattr(stats, key)\n",
    "\n",
    "    params = dicty[key]\n",
    "   \n",
    "    if type(params) is dict:\n",
    "        params = list(params.values())\n",
    "\n",
    "    dist_vals = obj.rvs(size=n,*params)\n",
    " \n",
    " \n",
    "    return dist_vals\n",
    "distirbutionDict = dict.fromkeys(geburtenRate.keys(),{})\n",
    "print(distirbutionDict)\n",
    "for sprache,dicty in geburtenRate.items():\n",
    "    distirbutionDict[sprache][\"birth\"]= generateDistribution(dicty)\n",
    "for sprache,dicty in todesRaten.items():\n",
    "    distirbutionDict[sprache][\"death\"] = generateDistribution(dicty)\n",
    "\n",
    "print(distirbutionDict)"
   ]
  },
  {
   "cell_type": "code",
   "execution_count": 38,
   "metadata": {},
   "outputs": [
    {
     "data": {
      "image/png": "[encoded data removed]",
      "text/plain": [
       "<Figure size 432x288 with 1 Axes>"
      ]
     },
     "metadata": {
      "needs_background": "light"
     },
     "output_type": "display_data"
    }
   ],
   "source": [
    "startValue = 7000000\n",
    "\n",
    "def simulation(distirbutionDict,startValue,years=50,n=10):\n",
    "    runs = []\n",
    "    for i in range(n):\n",
    "        valuesYear = [startValue]\n",
    "        for year in range(2022,2022+years):\n",
    "            temp = random.choice(distirbutionDict[\"birth\"]) + random.choice(distirbutionDict[\"death\"])\n",
    "            newValue = valuesYear[-1] + temp\n",
    "            valuesYear.append(newValue)\n",
    "        runs.append(valuesYear)\n",
    "    return runs\n",
    "Deutsch = simulation(distirbutionDict[\"Deutsch\"],5243758,years=50,n=1)\n",
    "Franz = simulation(distirbutionDict[\"Französisch\"],1922946,years=50,n=1)\n",
    "Italien = simulation(distirbutionDict[\"Italienisch\"],669870,years=50,n=1)\n",
    "Andere = simulation(distirbutionDict[\"Andere\"],2214643,years=50,n=1)\n",
    "#plot Deutsch\n",
    "for i in range(len(Deutsch)):\n",
    "    plt.plot(Deutsch[i])\n",
    "    plt.plot(Franz[i])\n",
    "    plt.plot(Italien[i])\n",
    "    plt.plot(Andere[i])\n"
   ]
  }
 ],
 "metadata": {
  "interpreter": {
   "hash": "949777d72b0d2535278d3dc13498b2535136f6dfe0678499012e853ee9abcab1"
  },
  "kernelspec": {
   "display_name": "Python 3.9.7 64-bit",
   "language": "python",
   "name": "python3"
  },
  "language_info": {
   "codemirror_mode": {
    "name": "ipython",
    "version": 3
   },
   "file_extension": ".py",
   "mimetype": "text/x-python",
   "name": "python",
   "nbconvert_exporter": "python",
   "pygments_lexer": "ipython3",
   "version": "3.9.7"
  },
  "orig_nbformat": 4
 },
 "nbformat": 4,
 "nbformat_minor": 2
}
