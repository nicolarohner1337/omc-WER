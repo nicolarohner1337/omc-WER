{
 "cells": [
  {
   "cell_type": "code",
   "execution_count": 2,
   "metadata": {},
   "outputs": [],
   "source": [
    "#read excell file\n",
    "import pandas as pd\n",
    "import fitter\n",
    "import matplotlib.pyplot as plt\n",
    "import scipy.stats as stats\n",
    "import dill\n"
   ]
  },
  {
   "cell_type": "code",
   "execution_count": 12,
   "metadata": {},
   "outputs": [],
   "source": [
    "#read excell file\n",
    "#header is on row 3\n",
    "df = pd.read_excel('./je-d-01.05.04.01.01.xlsx', header=2,sheet_name=\"Einwanderungen\")\n",
    "#cut off after row 49\n",
    "df = df[:49]\n",
    "#cut off row 2 to 24\n",
    "df = df.drop(df.index[2:25])\n",
    "#set first column as index\n",
    "df = df.set_index(df.columns[0])\n",
    "\n",
    "#replace * with nan\n",
    "df = df.apply(pd.to_numeric, errors='coerce')\n",
    "#keep only the following indexes\n",
    "df = df.loc[['Total','Deutschland', 'Österreich', 'Schweizer', 'Frankreich', 'Italien']]\n",
    "#Transpose the dataframe\n",
    "df = df.T\n",
    "\n",
    "df[\"Deutsch\"] = df[\"Deutschland\"] + df[\"Österreich\"] + df[\"Schweizer\"]\n",
    "df[\"Andere\"] = df[\"Total\"] - df[\"Deutsch\"] - df[\"Frankreich\"] - df[\"Italien\"]\n",
    "#drop Columns Total Deutschland Österreich Schweizer \n",
    "df = df.drop(df.columns[0:4], axis=1)\n",
    "#rename Frankreich to Französisch\n",
    "df = df.rename(index=str, columns={\"Frankreich\": \"Französisch\"})\n",
    "#rename Italien to Italienisch\n",
    "df = df.rename(index=str, columns={\"Italien\": \"Italienisch\"})"
   ]
  },
  {
   "cell_type": "code",
   "execution_count": 13,
   "metadata": {},
   "outputs": [
    {
     "name": "stderr",
     "output_type": "stream",
     "text": [
      "WARNING:root:SKIPPED kstwo distribution (taking more than 60 seconds)\n",
      "WARNING:root:SKIPPED rv_continuous distribution (taking more than 60 seconds)\n",
      "WARNING:root:SKIPPED rv_histogram distribution (taking more than 60 seconds)\n",
      "/Library/Frameworks/Python.framework/Versions/3.9/lib/python3.9/site-packages/scipy/integrate/_quadpack_py.py:879: IntegrationWarning: The maximum number of subdivisions (50) has been achieved.\n",
      "  If increasing the limit yields no improvement it is advised to analyze \n",
      "  the integrand in order to determine the difficulties.  If the position of a \n",
      "  local difficulty can be determined (singularity, discontinuity) one will \n",
      "  probably gain from splitting up the interval and calling the integrator \n",
      "  on the subranges.  Perhaps a special-purpose integrator should be used.\n",
      "  quad_r = quad(f, low, high, args=args, full_output=self.full_output,\n",
      "/Library/Frameworks/Python.framework/Versions/3.9/lib/python3.9/site-packages/scipy/integrate/_quadpack_py.py:879: IntegrationWarning: The integral is probably divergent, or slowly convergent.\n",
      "  quad_r = quad(f, low, high, args=args, full_output=self.full_output,\n",
      "/Library/Frameworks/Python.framework/Versions/3.9/lib/python3.9/site-packages/scipy/integrate/_quadpack_py.py:879: IntegrationWarning: The occurrence of roundoff error is detected, which prevents \n",
      "  the requested tolerance from being achieved.  The error may be \n",
      "  underestimated.\n",
      "  quad_r = quad(f, low, high, args=args, full_output=self.full_output,\n",
      "WARNING:root:SKIPPED studentized_range distribution (taking more than 60 seconds)\n",
      "/Library/Frameworks/Python.framework/Versions/3.9/lib/python3.9/site-packages/scipy/integrate/_quadpack_py.py:879: IntegrationWarning: The maximum number of subdivisions (50) has been achieved.\n",
      "  If increasing the limit yields no improvement it is advised to analyze \n",
      "  the integrand in order to determine the difficulties.  If the position of a \n",
      "  local difficulty can be determined (singularity, discontinuity) one will \n",
      "  probably gain from splitting up the interval and calling the integrator \n",
      "  on the subranges.  Perhaps a special-purpose integrator should be used.\n",
      "  quad_r = quad(f, low, high, args=args, full_output=self.full_output,\n",
      "/Library/Frameworks/Python.framework/Versions/3.9/lib/python3.9/site-packages/scipy/integrate/_quadpack_py.py:879: IntegrationWarning: The occurrence of roundoff error is detected, which prevents \n",
      "  the requested tolerance from being achieved.  The error may be \n",
      "  underestimated.\n",
      "  quad_r = quad(f, low, high, args=args, full_output=self.full_output,\n",
      "WARNING:root:SKIPPED kstwo distribution (taking more than 60 seconds)\n",
      "WARNING:root:SKIPPED rv_continuous distribution (taking more than 60 seconds)\n",
      "WARNING:root:SKIPPED rv_histogram distribution (taking more than 60 seconds)\n",
      "/Library/Frameworks/Python.framework/Versions/3.9/lib/python3.9/site-packages/scipy/integrate/_quadpack_py.py:879: IntegrationWarning: The integral is probably divergent, or slowly convergent.\n",
      "  quad_r = quad(f, low, high, args=args, full_output=self.full_output,\n",
      "WARNING:root:SKIPPED studentized_range distribution (taking more than 60 seconds)\n",
      "/Library/Frameworks/Python.framework/Versions/3.9/lib/python3.9/site-packages/scipy/integrate/_quadpack_py.py:879: IntegrationWarning: The maximum number of subdivisions (50) has been achieved.\n",
      "  If increasing the limit yields no improvement it is advised to analyze \n",
      "  the integrand in order to determine the difficulties.  If the position of a \n",
      "  local difficulty can be determined (singularity, discontinuity) one will \n",
      "  probably gain from splitting up the interval and calling the integrator \n",
      "  on the subranges.  Perhaps a special-purpose integrator should be used.\n",
      "  quad_r = quad(f, low, high, args=args, full_output=self.full_output,\n",
      "/Library/Frameworks/Python.framework/Versions/3.9/lib/python3.9/site-packages/scipy/integrate/_quadpack_py.py:879: IntegrationWarning: The occurrence of roundoff error is detected, which prevents \n",
      "  the requested tolerance from being achieved.  The error may be \n",
      "  underestimated.\n",
      "  quad_r = quad(f, low, high, args=args, full_output=self.full_output,\n",
      "WARNING:root:SKIPPED kstwo distribution (taking more than 60 seconds)\n",
      "WARNING:root:SKIPPED rv_continuous distribution (taking more than 60 seconds)\n",
      "WARNING:root:SKIPPED rv_histogram distribution (taking more than 60 seconds)\n",
      "WARNING:root:SKIPPED studentized_range distribution (taking more than 60 seconds)\n",
      "/Library/Frameworks/Python.framework/Versions/3.9/lib/python3.9/site-packages/scipy/integrate/_quadpack_py.py:879: IntegrationWarning: The maximum number of subdivisions (50) has been achieved.\n",
      "  If increasing the limit yields no improvement it is advised to analyze \n",
      "  the integrand in order to determine the difficulties.  If the position of a \n",
      "  local difficulty can be determined (singularity, discontinuity) one will \n",
      "  probably gain from splitting up the interval and calling the integrator \n",
      "  on the subranges.  Perhaps a special-purpose integrator should be used.\n",
      "  quad_r = quad(f, low, high, args=args, full_output=self.full_output,\n",
      "/Library/Frameworks/Python.framework/Versions/3.9/lib/python3.9/site-packages/scipy/integrate/_quadpack_py.py:879: IntegrationWarning: The occurrence of roundoff error is detected, which prevents \n",
      "  the requested tolerance from being achieved.  The error may be \n",
      "  underestimated.\n",
      "  quad_r = quad(f, low, high, args=args, full_output=self.full_output,\n",
      "WARNING:root:SKIPPED kstwo distribution (taking more than 60 seconds)\n",
      "WARNING:root:SKIPPED rv_continuous distribution (taking more than 60 seconds)\n",
      "WARNING:root:SKIPPED rv_histogram distribution (taking more than 60 seconds)\n",
      "/Library/Frameworks/Python.framework/Versions/3.9/lib/python3.9/site-packages/scipy/integrate/_quadpack_py.py:879: IntegrationWarning: The integral is probably divergent, or slowly convergent.\n",
      "  quad_r = quad(f, low, high, args=args, full_output=self.full_output,\n",
      "WARNING:root:SKIPPED levy_stable distribution (taking more than 60 seconds)\n",
      "WARNING:root:SKIPPED studentized_range distribution (taking more than 60 seconds)\n"
     ]
    },
    {
     "name": "stdout",
     "output_type": "stream",
     "text": [
      "{'Französisch': {'powerlaw': {'a': 0.5972845912678386, 'loc': 4879.999999999999, 'scale': 11018.251678052946}}, 'Italienisch': {'arcsine': {'loc': 4313.999999999999, 'scale': 14693.255218905497}}, 'Deutsch': {'nakagami': {'nu': 0.43359957710345587, 'loc': 31488.999999999996, 'scale': 20261.703914740316}}, 'Andere': {'kappa4': {'h': 1.0673671474698967, 'k': 1.0628748448970646, 'loc': 46775.03913456213, 'scale': 66729.36691718586}}}\n"
     ]
    }
   ],
   "source": [
    "#for each column find the best fit distribution\n",
    "dict_distributions = {}\n",
    "for col in df.columns:\n",
    "    #fit the data and drop na\n",
    "    f = fitter.Fitter(df[col].dropna(), timeout=60)\n",
    "    f.fit()\n",
    "    dict_distributions[col] = f.get_best()\n",
    "\n",
    "print(dict_distributions)\n",
    "    "
   ]
  },
  {
   "cell_type": "code",
   "execution_count": 14,
   "metadata": {},
   "outputs": [],
   "source": [
    "dill.dump(dict_distributions, open(\"distributions_nach_sprache.pick\", mode='wb'))"
   ]
  }
 ],
 "metadata": {
  "interpreter": {
   "hash": "949777d72b0d2535278d3dc13498b2535136f6dfe0678499012e853ee9abcab1"
  },
  "kernelspec": {
   "display_name": "Python 3.9.7 64-bit",
   "language": "python",
   "name": "python3"
  },
  "language_info": {
   "codemirror_mode": {
    "name": "ipython",
    "version": 3
   },
   "file_extension": ".py",
   "mimetype": "text/x-python",
   "name": "python",
   "nbconvert_exporter": "python",
   "pygments_lexer": "ipython3",
   "version": "3.9.7"
  },
  "orig_nbformat": 4
 },
 "nbformat": 4,
 "nbformat_minor": 2
}
