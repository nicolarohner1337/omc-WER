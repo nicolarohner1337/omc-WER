{
 "cells": [
  {
   "cell_type": "code",
   "execution_count": 33,
   "metadata": {},
   "outputs": [],
   "source": [
    "import pandas as pd\n",
    "import fitter\n",
    "import scipy.stats as stats\n",
    "import matplotlib.pyplot as plt\n",
    "import dill"
   ]
  },
  {
   "cell_type": "code",
   "execution_count": 34,
   "metadata": {},
   "outputs": [],
   "source": [
    "def get_hauptsprache_kanton(year:str):\n",
    "    df_hauptspr = pd.read_excel(\"variable_hauptsprache_pro_kanton/rohdaten/je-d-01.08.01.02.xlsx\", sheet_name=year)\n",
    "\n",
    "    df_hauptspr = df_hauptspr.iloc[4:35, [0,2,4,6,8,10,12,14,16,18,20,22]].replace(\"X\", -1)\n",
    "\n",
    "    added = df_hauptspr.iloc[:,4:].sum(axis=1)\n",
    "\n",
    "    df_hauptspr = df_hauptspr.drop(columns=df_hauptspr.columns[4:])\n",
    "\n",
    "    df_hauptspr[\"andere\"] = added\n",
    "\n",
    "    df_hauptspr.set_index(df_hauptspr.columns[0], drop=True, inplace=True)\n",
    "\n",
    "    df_hauptspr.columns = [\"Deutsch\", \"Französisch\", \"Italienisch\", \"Andere\"]\n",
    "\n",
    "    df_hauptspr = df_hauptspr.transpose().astype(\"float\").astype(\"Float64\").replace(-1, pd.NA)\n",
    "\n",
    "    return df_hauptspr\n",
    "\n",
    "def get_geburtenrate_kanton():\n",
    "\n",
    "    df_gebRate = pd.read_excel(\"variable_lebendgeburten_pro_jahr/rohdaten/su-d-01.04.01.01.08.xlsx\", sheet_name=\"Total\")\n",
    "\n",
    "    df_gebRate.set_index(df_gebRate.columns[0], drop=True, inplace=True)\n",
    "\n",
    "    df_gebRate.columns = df_gebRate.iloc[1,:].values.astype(\"int\").astype(\"str\")\n",
    "\n",
    "    df_gebRate = df_gebRate.iloc[3:29,:]\n",
    "\n",
    "    df_gebRate.columns.name = None\n",
    "    df_gebRate.index.name = None\n",
    "\n",
    "    return df_gebRate.transpose().astype(\"Float64\")"
   ]
  },
  {
   "cell_type": "code",
   "execution_count": 35,
   "metadata": {},
   "outputs": [
    {
     "name": "stderr",
     "output_type": "stream",
     "text": [
      "WARNING:root:SKIPPED kstwo distribution (taking more than 60 seconds)\n",
      "WARNING:root:SKIPPED rv_continuous distribution (taking more than 60 seconds)\n",
      "WARNING:root:SKIPPED rv_histogram distribution (taking more than 60 seconds)\n",
      "WARNING:root:SKIPPED kstwo distribution (taking more than 60 seconds)\n",
      "WARNING:root:SKIPPED rv_continuous distribution (taking more than 60 seconds)\n",
      "WARNING:root:SKIPPED rv_histogram distribution (taking more than 60 seconds)\n",
      "WARNING:root:SKIPPED kstwo distribution (taking more than 60 seconds)\n",
      "C:\\Users\\tobia\\anaconda3\\lib\\site-packages\\scipy\\stats\\_continuous_distns.py:4530: IntegrationWarning: The integral is probably divergent, or slowly convergent.\n",
      "  intg = integrate.quad(f, -xi, np.pi/2, **intg_kwargs)[0]\n",
      "WARNING:root:SKIPPED rv_continuous distribution (taking more than 60 seconds)\n",
      "WARNING:root:SKIPPED rv_histogram distribution (taking more than 60 seconds)\n",
      "WARNING:root:SKIPPED kstwo distribution (taking more than 60 seconds)\n",
      "C:\\Users\\tobia\\anaconda3\\lib\\site-packages\\scipy\\stats\\_continuous_distns.py:4530: IntegrationWarning: The integral is probably divergent, or slowly convergent.\n",
      "  intg = integrate.quad(f, -xi, np.pi/2, **intg_kwargs)[0]\n",
      "WARNING:root:SKIPPED rv_continuous distribution (taking more than 60 seconds)\n",
      "WARNING:root:SKIPPED rv_histogram distribution (taking more than 60 seconds)\n"
     ]
    },
    {
     "data": {
      "image/png": "[encoded data removed]",
      "text/plain": [
       "<Figure size 432x288 with 1 Axes>"
      ]
     },
     "metadata": {
      "needs_background": "light"
     },
     "output_type": "display_data"
    },
    {
     "data": {
      "image/png": "[encoded data removed]",
      "text/plain": [
       "<Figure size 432x288 with 1 Axes>"
      ]
     },
     "metadata": {
      "needs_background": "light"
     },
     "output_type": "display_data"
    },
    {
     "data": {
      "image/png": "[encoded data removed]",
      "text/plain": [
       "<Figure size 432x288 with 1 Axes>"
      ]
     },
     "metadata": {
      "needs_background": "light"
     },
     "output_type": "display_data"
    },
    {
     "data": {
      "image/png": "[encoded data removed]",
      "text/plain": [
       "<Figure size 432x288 with 1 Axes>"
      ]
     },
     "metadata": {
      "needs_background": "light"
     },
     "output_type": "display_data"
    }
   ],
   "source": [
    "df_geburtenRate = get_geburtenrate_kanton()\n",
    "\n",
    "df_hauptsprache_mean = get_hauptsprache_kanton(\"2010\")\n",
    "\n",
    "for year in range(2011, 2021):\n",
    "    df_hs = get_hauptsprache_kanton(str(year))\n",
    "\n",
    "    df_hauptsprache_mean = pd.concat((df_hauptsprache_mean, df_hs))\n",
    "\n",
    "df_mean_hauptsprache = df_hauptsprache_mean.groupby(df_hauptsprache_mean.index).mean()\n",
    "\n",
    "df_mean_hauptsprache_percent = df_mean_hauptsprache.apply(lambda x: x / x.sum())\n",
    "\n",
    "\n",
    "dict_birthRate_lang_distribution = {}\n",
    "for year, row in df_geburtenRate.iterrows():\n",
    "    dict_birthRate_languages = {}\n",
    "\n",
    "    #iteriere über kantone\n",
    "    for kanton, birthRate in row.iteritems():\n",
    "        if kanton in df_mean_hauptsprache_percent.columns:\n",
    "            #iteriere über sprachenanteil der kantone\n",
    "            for sprache, langPercent in df_mean_hauptsprache_percent[kanton].iteritems():\n",
    "                dict_birthRate_languages[sprache] = dict_birthRate_languages.get(sprache, 0) + birthRate * langPercent\n",
    "\n",
    "    for key, value in list(dict_birthRate_languages.items()):\n",
    "        item = dict_birthRate_lang_distribution.get(key, [])\n",
    "        item.append(value)\n",
    "        dict_birthRate_lang_distribution[key] = item\n",
    "\n",
    "dict_distributions = {}\n",
    "for sprache, values in dict_birthRate_lang_distribution.items():\n",
    "    f = fitter.Fitter(values, timeout=60)\n",
    "    f.fit()\n",
    "\n",
    "    dict_distributions[sprache] = f.get_best()\n",
    "\n",
    "for sprache, dist in dict_distributions.items():\n",
    "    params = dist[list(dist.keys())[0]]\n",
    "\n",
    "    if type(params) is dict:\n",
    "        params = list(params.items())\n",
    "\n",
    "    obj = getattr(stats, list(dist.keys())[0])(*params)\n",
    "\n",
    "    dist_vals = obj.rvs(size=10000)\n",
    "\n",
    "    plt.hist(dist_vals, bins=30)\n",
    "    plt.title(sprache + \", \" + str(list(dist.keys())[0]))\n",
    "    plt.show()\n",
    "\n",
    "dill.dump(dict_distributions, open(\"districutions_nach_sprache.pick\", mode='wb'))"
   ]
  }
 ],
 "metadata": {
  "interpreter": {
   "hash": "98ea4aa7ef65b409e2862b134a2f5237f994cf91d14baa9074ce881319b0114c"
  },
  "kernelspec": {
   "display_name": "Python 3.8.8 ('base')",
   "language": "python",
   "name": "python3"
  },
  "language_info": {
   "codemirror_mode": {
    "name": "ipython",
    "version": 3
   },
   "file_extension": ".py",
   "mimetype": "text/x-python",
   "name": "python",
   "nbconvert_exporter": "python",
   "pygments_lexer": "ipython3",
   "version": "3.8.8"
  },
  "orig_nbformat": 4
 },
 "nbformat": 4,
 "nbformat_minor": 2
}
