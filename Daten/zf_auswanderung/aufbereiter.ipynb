{
 "cells": [
  {
   "cell_type": "code",
   "execution_count": 58,
   "metadata": {},
   "outputs": [],
   "source": [
    "import pandas as pd\n",
    "import fitter\n",
    "import dill"
   ]
  },
  {
   "cell_type": "code",
   "execution_count": 59,
   "metadata": {},
   "outputs": [
    {
     "name": "stderr",
     "output_type": "stream",
     "text": [
      "c:\\Users\\tobia\\anaconda3\\lib\\site-packages\\openpyxl\\worksheet\\header_footer.py:48: UserWarning: Cannot parse header or footer so it will be ignored\n",
      "  warn(\"\"\"Cannot parse header or footer so it will be ignored\"\"\")\n"
     ]
    },
    {
     "data": {
      "text/html": [
       "<div>\n",
       "<style scoped>\n",
       "    .dataframe tbody tr th:only-of-type {\n",
       "        vertical-align: middle;\n",
       "    }\n",
       "\n",
       "    .dataframe tbody tr th {\n",
       "        vertical-align: top;\n",
       "    }\n",
       "\n",
       "    .dataframe thead th {\n",
       "        text-align: right;\n",
       "    }\n",
       "</style>\n",
       "<table border=\"1\" class=\"dataframe\">\n",
       "  <thead>\n",
       "    <tr style=\"text-align: right;\">\n",
       "      <th></th>\n",
       "      <th>1991</th>\n",
       "      <th>1992</th>\n",
       "      <th>1993</th>\n",
       "      <th>1994</th>\n",
       "      <th>1995</th>\n",
       "      <th>1996</th>\n",
       "      <th>1997</th>\n",
       "      <th>1998</th>\n",
       "      <th>1999</th>\n",
       "      <th>2000</th>\n",
       "      <th>...</th>\n",
       "      <th>2011 1</th>\n",
       "      <th>2012</th>\n",
       "      <th>2013</th>\n",
       "      <th>2014</th>\n",
       "      <th>2015</th>\n",
       "      <th>2016</th>\n",
       "      <th>2017</th>\n",
       "      <th>2018</th>\n",
       "      <th>2019</th>\n",
       "      <th>2020</th>\n",
       "    </tr>\n",
       "  </thead>\n",
       "  <tbody>\n",
       "    <tr>\n",
       "      <th>Französisch</th>\n",
       "      <td>4299</td>\n",
       "      <td>4354</td>\n",
       "      <td>4086</td>\n",
       "      <td>3705</td>\n",
       "      <td>3942</td>\n",
       "      <td>3958</td>\n",
       "      <td>3710</td>\n",
       "      <td>3603</td>\n",
       "      <td>3963</td>\n",
       "      <td>3988</td>\n",
       "      <td>...</td>\n",
       "      <td>5889</td>\n",
       "      <td>6263</td>\n",
       "      <td>6177</td>\n",
       "      <td>6658</td>\n",
       "      <td>7469</td>\n",
       "      <td>7863</td>\n",
       "      <td>8124</td>\n",
       "      <td>9041</td>\n",
       "      <td>8645</td>\n",
       "      <td>7419</td>\n",
       "    </tr>\n",
       "    <tr>\n",
       "      <th>Italienisch</th>\n",
       "      <td>12257</td>\n",
       "      <td>16109</td>\n",
       "      <td>12242</td>\n",
       "      <td>10370</td>\n",
       "      <td>10399</td>\n",
       "      <td>11363</td>\n",
       "      <td>10405</td>\n",
       "      <td>9092</td>\n",
       "      <td>9182</td>\n",
       "      <td>8163</td>\n",
       "      <td>...</td>\n",
       "      <td>5266</td>\n",
       "      <td>5575</td>\n",
       "      <td>5929</td>\n",
       "      <td>6957</td>\n",
       "      <td>7938</td>\n",
       "      <td>8947</td>\n",
       "      <td>9570</td>\n",
       "      <td>9890</td>\n",
       "      <td>9458</td>\n",
       "      <td>8064</td>\n",
       "    </tr>\n",
       "    <tr>\n",
       "      <th>Deutsch</th>\n",
       "      <td>39305</td>\n",
       "      <td>39899</td>\n",
       "      <td>36703</td>\n",
       "      <td>37490</td>\n",
       "      <td>38299</td>\n",
       "      <td>39165</td>\n",
       "      <td>37906</td>\n",
       "      <td>37574</td>\n",
       "      <td>36226</td>\n",
       "      <td>37774</td>\n",
       "      <td>...</td>\n",
       "      <td>46345</td>\n",
       "      <td>48100</td>\n",
       "      <td>46183</td>\n",
       "      <td>46707</td>\n",
       "      <td>48263</td>\n",
       "      <td>47967</td>\n",
       "      <td>48532</td>\n",
       "      <td>48228</td>\n",
       "      <td>47163</td>\n",
       "      <td>39529</td>\n",
       "    </tr>\n",
       "    <tr>\n",
       "      <th>Andere</th>\n",
       "      <td>47472</td>\n",
       "      <td>56672</td>\n",
       "      <td>51994</td>\n",
       "      <td>47740</td>\n",
       "      <td>46869</td>\n",
       "      <td>48912</td>\n",
       "      <td>46500</td>\n",
       "      <td>44509</td>\n",
       "      <td>42433</td>\n",
       "      <td>40153</td>\n",
       "      <td>...</td>\n",
       "      <td>38994</td>\n",
       "      <td>43943</td>\n",
       "      <td>47907</td>\n",
       "      <td>50781</td>\n",
       "      <td>52961</td>\n",
       "      <td>55876</td>\n",
       "      <td>58771</td>\n",
       "      <td>63066</td>\n",
       "      <td>60955</td>\n",
       "      <td>54364</td>\n",
       "    </tr>\n",
       "  </tbody>\n",
       "</table>\n",
       "<p>4 rows × 30 columns</p>\n",
       "</div>"
      ],
      "text/plain": [
       "              1991   1992   1993   1994   1995   1996   1997   1998   1999  \\\n",
       "Französisch   4299   4354   4086   3705   3942   3958   3710   3603   3963   \n",
       "Italienisch  12257  16109  12242  10370  10399  11363  10405   9092   9182   \n",
       "Deutsch      39305  39899  36703  37490  38299  39165  37906  37574  36226   \n",
       "Andere       47472  56672  51994  47740  46869  48912  46500  44509  42433   \n",
       "\n",
       "              2000  ...  2011 1    2012   2013   2014   2015   2016   2017  \\\n",
       "Französisch   3988  ...     5889   6263   6177   6658   7469   7863   8124   \n",
       "Italienisch   8163  ...     5266   5575   5929   6957   7938   8947   9570   \n",
       "Deutsch      37774  ...    46345  48100  46183  46707  48263  47967  48532   \n",
       "Andere       40153  ...    38994  43943  47907  50781  52961  55876  58771   \n",
       "\n",
       "              2018   2019   2020  \n",
       "Französisch   9041   8645   7419  \n",
       "Italienisch   9890   9458   8064  \n",
       "Deutsch      48228  47163  39529  \n",
       "Andere       63066  60955  54364  \n",
       "\n",
       "[4 rows x 30 columns]"
      ]
     },
     "execution_count": 59,
     "metadata": {},
     "output_type": "execute_result"
    }
   ],
   "source": [
    "def get_auswanderung():\n",
    "    df = pd.read_excel(\"je-d-01.05.04.01.01.xlsx\", sheet_name=\"Auswanderungen\", header=2, nrows=49)\n",
    "\n",
    "    df.set_index(df.columns[0], drop=True, inplace=True)\n",
    "    df.index.name = \"\"\n",
    "\n",
    "    df = df.transpose()\n",
    "\n",
    "    df = df[[\"Total\", \"Schweizer\", \"Deutschland\", \"Österreich\", \"Frankreich\", \"Italien\"]]\n",
    "\n",
    "    df[\"Deutsch\"] = df[[\"Schweizer\", \"Deutschland\", \"Österreich\"]].sum(axis=1)\n",
    "    df.drop([\"Schweizer\", \"Deutschland\", \"Österreich\"], axis=1, inplace=True)\n",
    "\n",
    "    df[\"Andere\"] = df[\"Total\"] - df[\"Frankreich\"] - df[\"Italien\"] - df[\"Deutsch\"]\n",
    "\n",
    "    df.drop(\"Total\", inplace=True, axis=1)\n",
    "\n",
    "    df.columns = [\"Französisch\", \"Italienisch\", \"Deutsch\", \"Andere\"]\n",
    "\n",
    "    df = df.transpose()\n",
    "\n",
    "    df = df.apply(pd.to_numeric, errors=\"coerce\")\n",
    "\n",
    "    return df\n",
    "\n",
    "get_auswanderung()"
   ]
  },
  {
   "cell_type": "code",
   "execution_count": 60,
   "metadata": {},
   "outputs": [
    {
     "name": "stderr",
     "output_type": "stream",
     "text": [
      "c:\\Users\\tobia\\anaconda3\\lib\\site-packages\\openpyxl\\worksheet\\header_footer.py:48: UserWarning: Cannot parse header or footer so it will be ignored\n",
      "  warn(\"\"\"Cannot parse header or footer so it will be ignored\"\"\")\n"
     ]
    },
    {
     "data": {
      "text/html": [
       "\n",
       "            <div style=\"float: left; border: 1px solid black; width:500px\">\n",
       "              <div id=\"1c4ab12d-0365-492a-a6b3-9767b9b1a6f0\" style=\"background-color:blue; width:0%\">&nbsp;</div>\n",
       "            </div>\n",
       "            <label id=\"ce30e2ee-8ce9-4532-936f-d0dd45495d96\" style=\"padding-left: 10px;\" text = \"\"/>\n",
       "            "
      ],
      "text/plain": [
       "<IPython.core.display.HTML object>"
      ]
     },
     "metadata": {},
     "output_type": "display_data"
    },
    {
     "name": "stderr",
     "output_type": "stream",
     "text": [
      "WARNING:root:SKIPPED kstwo distribution (taking more than 60 seconds)\n",
      "WARNING:root:SKIPPED rv_continuous distribution (taking more than 60 seconds)\n",
      "WARNING:root:SKIPPED rv_histogram distribution (taking more than 60 seconds)\n"
     ]
    },
    {
     "data": {
      "text/html": [
       "\n",
       "            <div style=\"float: left; border: 1px solid black; width:500px\">\n",
       "              <div id=\"f0f9ac64-745f-44bc-8260-9f0d3f309ab2\" style=\"background-color:blue; width:0%\">&nbsp;</div>\n",
       "            </div>\n",
       "            <label id=\"5e044622-19c1-41ca-96b0-83dcd15b389b\" style=\"padding-left: 10px;\" text = \"\"/>\n",
       "            "
      ],
      "text/plain": [
       "<IPython.core.display.HTML object>"
      ]
     },
     "metadata": {},
     "output_type": "display_data"
    },
    {
     "name": "stderr",
     "output_type": "stream",
     "text": [
      "WARNING:root:SKIPPED kstwo distribution (taking more than 60 seconds)\n",
      "WARNING:root:SKIPPED rv_continuous distribution (taking more than 60 seconds)\n",
      "WARNING:root:SKIPPED rv_histogram distribution (taking more than 60 seconds)\n"
     ]
    },
    {
     "data": {
      "text/html": [
       "\n",
       "            <div style=\"float: left; border: 1px solid black; width:500px\">\n",
       "              <div id=\"d8fce396-86d9-43f7-a722-416bd0ebd8ea\" style=\"background-color:blue; width:0%\">&nbsp;</div>\n",
       "            </div>\n",
       "            <label id=\"517f6266-30da-4d50-8d69-de8524731a20\" style=\"padding-left: 10px;\" text = \"\"/>\n",
       "            "
      ],
      "text/plain": [
       "<IPython.core.display.HTML object>"
      ]
     },
     "metadata": {},
     "output_type": "display_data"
    },
    {
     "name": "stderr",
     "output_type": "stream",
     "text": [
      "WARNING:root:SKIPPED kstwo distribution (taking more than 60 seconds)\n",
      "WARNING:root:SKIPPED rv_continuous distribution (taking more than 60 seconds)\n",
      "WARNING:root:SKIPPED rv_histogram distribution (taking more than 60 seconds)\n"
     ]
    },
    {
     "data": {
      "text/html": [
       "\n",
       "            <div style=\"float: left; border: 1px solid black; width:500px\">\n",
       "              <div id=\"1aa59e87-3b0b-45af-9209-34d4a702b460\" style=\"background-color:blue; width:0%\">&nbsp;</div>\n",
       "            </div>\n",
       "            <label id=\"8c5787b0-f7be-49cb-b747-ff7f844c391c\" style=\"padding-left: 10px;\" text = \"\"/>\n",
       "            "
      ],
      "text/plain": [
       "<IPython.core.display.HTML object>"
      ]
     },
     "metadata": {},
     "output_type": "display_data"
    },
    {
     "name": "stderr",
     "output_type": "stream",
     "text": [
      "WARNING:root:SKIPPED kstwo distribution (taking more than 60 seconds)\n",
      "WARNING:root:SKIPPED rv_continuous distribution (taking more than 60 seconds)\n",
      "WARNING:root:SKIPPED rv_histogram distribution (taking more than 60 seconds)\n"
     ]
    },
    {
     "data": {
      "image/png": "[encoded data removed]",
      "text/plain": [
       "<Figure size 432x288 with 1 Axes>"
      ]
     },
     "metadata": {
      "needs_background": "light"
     },
     "output_type": "display_data"
    }
   ],
   "source": [
    "df_auswanderung = get_auswanderung()\n",
    "\n",
    "dict_distributions = {}\n",
    "for sprache in df_auswanderung.index.values:\n",
    "\n",
    "    row_values = df_auswanderung.loc[sprache].dropna().values\n",
    "\n",
    "    f = fitter.Fitter(row_values, timeout=60)\n",
    "    f.fit()\n",
    "\n",
    "    dict_distributions[sprache] = f.get_best()\n",
    "\n",
    "dill.dump(dict_distributions, open(\"distributions_nach_sprache.pick\", mode='wb'))"
   ]
  }
 ],
 "metadata": {
  "interpreter": {
   "hash": "aaf44a44f991776c7a468a10bd93d647e5ccc9a99b5473151ab62bf56451edd5"
  },
  "kernelspec": {
   "display_name": "Python 3.8.8 ('base')",
   "language": "python",
   "name": "python3"
  },
  "language_info": {
   "codemirror_mode": {
    "name": "ipython",
    "version": 3
   },
   "file_extension": ".py",
   "mimetype": "text/x-python",
   "name": "python",
   "nbconvert_exporter": "python",
   "pygments_lexer": "ipython3",
   "version": "3.8.8"
  },
  "orig_nbformat": 4
 },
 "nbformat": 4,
 "nbformat_minor": 2
}
